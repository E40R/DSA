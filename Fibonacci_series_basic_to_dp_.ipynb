{
  "nbformat": 4,
  "nbformat_minor": 0,
  "metadata": {
    "colab": {
      "provenance": [],
      "authorship_tag": "ABX9TyPFUYQBNcxUzXgDJoVBwHLV",
      "include_colab_link": true
    },
    "kernelspec": {
      "name": "python3",
      "display_name": "Python 3"
    },
    "language_info": {
      "name": "python"
    }
  },
  "cells": [
    {
      "cell_type": "markdown",
      "metadata": {
        "id": "view-in-github",
        "colab_type": "text"
      },
      "source": [
        "<a href=\"https://colab.research.google.com/github/E40R/DSA/blob/main/Fibonacci_series_basic_to_dp_.ipynb\" target=\"_parent\"><img src=\"https://colab.research.google.com/assets/colab-badge.svg\" alt=\"Open In Colab\"/></a>"
      ]
    },
    {
      "cell_type": "markdown",
      "source": [
        "Fibonacci series is just a series of numbers with particular rule, which is say nth number of series would be simply the sum of earlier two numbers of the series. Fib(1) would be 1 its fixed and then fib (2) is also 0+1 =1. Now fib(3) is sum of earlier two numbers in series ie fib(1)+fib(2) which is 1+1= 2, hence fib(3)=2."
      ],
      "metadata": {
        "id": "r3gvnmkzvJFi"
      }
    },
    {
      "cell_type": "code",
      "source": [
        "#Basic reccursive solution\n",
        "def fib(n):\n",
        "  if n==1 or n==2:\n",
        "    result= 1\n",
        "  else:\n",
        "    result= fib(n-1)+fib(n-2)\n",
        "  return result\n",
        "\n",
        "fib(3)"
      ],
      "metadata": {
        "id": "vkZ3kT0Tv-aU",
        "colab": {
          "base_uri": "https://localhost:8080/"
        },
        "outputId": "f1809a03-02e3-4cb0-b228-aa49e728818f"
      },
      "execution_count": null,
      "outputs": [
        {
          "output_type": "execute_result",
          "data": {
            "text/plain": [
              "2"
            ]
          },
          "metadata": {},
          "execution_count": 5
        }
      ]
    },
    {
      "cell_type": "markdown",
      "source": [
        "This recursive solution is simpler but would take up a lot of time complexity O(2^n) and hence its not recommended for big numbers. <br>\n",
        " To solve this we use **memoization** which is basically storing results instead of calculating same thing again and again. For example, for fib(5) we calculate fib(4) and fib (3) next for fib(4) we calculate fib(3) and fib(2), here we are calculating fib(3) twice (alot of times if n is huge number). Hence we can store value of fib(3) in a say array and then later on you just have to access this array instead of calcuating again and again.\n"
      ],
      "metadata": {
        "id": "EK3Woaw1xX0a"
      }
    },
    {
      "cell_type": "code",
      "source": [
        "#memoization\n",
        "def fib2(n,memo):\n",
        " if n in memo:\n",
        "   return memo[n]\n",
        " if n==1 or n==2:\n",
        "      result =1\n",
        " else:\n",
        "     result = fib2(n-1)+fib2(n-2)\n",
        " memo[n]=result\n",
        " return result\n",
        "\n",
        "def  fibmemo(n):\n",
        "   memo= [None] * (n + 1)\n",
        "   return fib2 (n, memo)\n",
        "\n",
        "fib(3)"
      ],
      "metadata": {
        "colab": {
          "base_uri": "https://localhost:8080/"
        },
        "id": "5EEggOAsydoy",
        "outputId": "385356fd-e8ff-4dfb-ec54-f7756331ccf8"
      },
      "execution_count": null,
      "outputs": [
        {
          "output_type": "execute_result",
          "data": {
            "text/plain": [
              "2"
            ]
          },
          "metadata": {},
          "execution_count": 13
        }
      ]
    },
    {
      "cell_type": "markdown",
      "source": [
        "The above solution is good but still it has reccursion call, which is fine but for large numbers it takes time too. To solve this we can use bottom down by flling array from starting."
      ],
      "metadata": {
        "id": "xAkyy0kf1DBE"
      }
    },
    {
      "cell_type": "code",
      "source": [
        "#bottomdown filling it\n",
        "def fib3btd(n):\n",
        "  if n==1 or n==2:\n",
        "    return 1\n",
        "  bottom_up= [None] * (n+1) #create a array to fill manually from begining\n",
        "  bottom_up[1]=1\n",
        "  bottom_up[2]=1\n",
        "\n",
        "  for i in range (3,n+1):\n",
        "    bottom_up[i]=bottom_up[i-1]+bottom_up[i-2]\n",
        "  return bottom_up[n]\n",
        "print(fib3btd(3))\n",
        "\n",
        "fib3btd(10)"
      ],
      "metadata": {
        "colab": {
          "base_uri": "https://localhost:8080/"
        },
        "id": "6Ie1tsUP1DO7",
        "outputId": "d09557ee-6fa6-420a-9df0-d17578e9a8b0"
      },
      "execution_count": null,
      "outputs": [
        {
          "output_type": "stream",
          "name": "stdout",
          "text": [
            "2\n"
          ]
        },
        {
          "output_type": "execute_result",
          "data": {
            "text/plain": [
              "55"
            ]
          },
          "metadata": {},
          "execution_count": 25
        }
      ]
    },
    {
      "cell_type": "code",
      "source": [
        "#reduced space complexity\n",
        "def fib4(n):\n",
        "  if n<1: #fib of 0=0 and 1=1 fib 2= 0+1\n",
        "    return n\n",
        "  prev1=0\n",
        "  prev=1\n",
        "\n",
        "  for i in range (2,n+1):\n",
        "    fibi=prev+prev1\n",
        "    prev1=prev\n",
        "    prev=fibi\n",
        "  return fibi #u can write return prev too\n",
        "fib4(6)"
      ],
      "metadata": {
        "colab": {
          "base_uri": "https://localhost:8080/"
        },
        "id": "OdEPMm8acFXy",
        "outputId": "faf47b6c-8e9e-4aef-f525-50f1f49989a0"
      },
      "execution_count": 6,
      "outputs": [
        {
          "output_type": "execute_result",
          "data": {
            "text/plain": [
              "8"
            ]
          },
          "metadata": {},
          "execution_count": 6
        }
      ]
    }
  ]
}