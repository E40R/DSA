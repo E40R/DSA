{
  "nbformat": 4,
  "nbformat_minor": 0,
  "metadata": {
    "colab": {
      "provenance": [],
      "authorship_tag": "ABX9TyP8jCU28b1zwPZb5krRGqWo",
      "include_colab_link": true
    },
    "kernelspec": {
      "name": "python3",
      "display_name": "Python 3"
    },
    "language_info": {
      "name": "python"
    }
  },
  "cells": [
    {
      "cell_type": "markdown",
      "metadata": {
        "id": "view-in-github",
        "colab_type": "text"
      },
      "source": [
        "<a href=\"https://colab.research.google.com/github/E40R/DSA/blob/main/Basic_Recursion.ipynb\" target=\"_parent\"><img src=\"https://colab.research.google.com/assets/colab-badge.svg\" alt=\"Open In Colab\"/></a>"
      ]
    },
    {
      "cell_type": "markdown",
      "source": [
        "Basic recursion problems"
      ],
      "metadata": {
        "id": "SEYptq5HXwii"
      }
    },
    {
      "cell_type": "code",
      "execution_count": 1,
      "metadata": {
        "colab": {
          "base_uri": "https://localhost:8080/"
        },
        "outputId": "3e6d0a1a-9c27-440f-8a5d-4034d798dcb4",
        "id": "NFb154muV9sx"
      },
      "outputs": [
        {
          "output_type": "stream",
          "name": "stdout",
          "text": [
            "K\n",
            "K\n",
            "K\n",
            "K\n",
            "K\n"
          ]
        }
      ],
      "source": [
        "#print name 5 times\n",
        "def printf(str,n):\n",
        "  if n<=0:\n",
        "    return\n",
        "  print(str)\n",
        "  printf(str,n-1)\n",
        "printf(\"K\",5)"
      ]
    },
    {
      "cell_type": "markdown",
      "source": [
        "Print linearly 1 to n"
      ],
      "metadata": {
        "id": "c7Bib3J_VErG"
      }
    },
    {
      "cell_type": "code",
      "source": [
        "def print2(n):\n",
        "  if n<=0:\n",
        "    return\n",
        "  print2(n-1)\n",
        "  print(n) #n starts from 5 so if we put print above it would print from 5 to 1 and not 1 to 5 so by putting it after recussion we can print form 1 to 5\n",
        "print2(5)"
      ],
      "metadata": {
        "colab": {
          "base_uri": "https://localhost:8080/"
        },
        "id": "9e0XcqxTXu3r",
        "outputId": "fb1e9f60-4d42-4aaa-d0ae-50084fbd79cc"
      },
      "execution_count": null,
      "outputs": [
        {
          "output_type": "stream",
          "name": "stdout",
          "text": [
            "1\n",
            "2\n",
            "3\n",
            "4\n",
            "5\n"
          ]
        }
      ]
    },
    {
      "cell_type": "markdown",
      "source": [
        "Print n-1 : in basic way (no backtracking)"
      ],
      "metadata": {
        "id": "NzQ28TT4Yqje"
      }
    },
    {
      "cell_type": "code",
      "source": [
        "def print3(i,n):\n",
        "  if i>n:\n",
        "    return\n",
        "  print(i)\n",
        "  print3(i-1,n)\n",
        "print3(3,3)"
      ],
      "metadata": {
        "colab": {
          "base_uri": "https://localhost:8080/"
        },
        "id": "A5p_YBE3ZvWp",
        "outputId": "d1c9c26d-0e50-47a1-dca5-077552937322"
      },
      "execution_count": null,
      "outputs": [
        {
          "output_type": "stream",
          "name": "stdout",
          "text": [
            "3\n",
            "2\n",
            "1\n"
          ]
        }
      ]
    },
    {
      "cell_type": "markdown",
      "source": [
        "Sum of first n numbers"
      ],
      "metadata": {
        "id": "r9fcLCOga5QB"
      }
    },
    {
      "cell_type": "code",
      "source": [
        "def sumf(n):\n",
        "  if n<=0:\n",
        "    return 0\n",
        "  return n+sumf(n-1)\n",
        "sumf(5)"
      ],
      "metadata": {
        "colab": {
          "base_uri": "https://localhost:8080/"
        },
        "id": "kEzmHMMVcRAu",
        "outputId": "eb187564-0307-4673-9305-6b03ba4f071f"
      },
      "execution_count": null,
      "outputs": [
        {
          "output_type": "execute_result",
          "data": {
            "text/plain": [
              "15"
            ]
          },
          "metadata": {},
          "execution_count": 4
        }
      ]
    },
    {
      "cell_type": "markdown",
      "source": [
        "Parametrised way"
      ],
      "metadata": {
        "id": "lbUC_ItYdNVq"
      }
    },
    {
      "cell_type": "code",
      "source": [
        "def sumfp(i,n):\n",
        "  if i<1:\n",
        "    print(n)\n",
        "    return\n",
        "  sumfp(i-1,n+i)\n",
        "sumfp(5,0) #understanding this is also imp as it might be useful for some problems"
      ],
      "metadata": {
        "colab": {
          "base_uri": "https://localhost:8080/"
        },
        "id": "zcq7gguJdMMi",
        "outputId": "9501cc10-5345-42b6-b382-110cac6deff3"
      },
      "execution_count": null,
      "outputs": [
        {
          "output_type": "stream",
          "name": "stdout",
          "text": [
            "15\n"
          ]
        }
      ]
    },
    {
      "cell_type": "markdown",
      "source": [
        "A bit advanced <br>\n",
        "Reverse array"
      ],
      "metadata": {
        "id": "vx9RVDJYd3FT"
      }
    },
    {
      "cell_type": "code",
      "source": [
        "arr=[0,1,2,3,4]\n",
        "def rev(l,r):\n",
        "  if l>=r:\n",
        "    return\n",
        "  temp=0\n",
        "  arr[l]=temp\n",
        "  arr[l]=arr[r]\n",
        "  arr[r]=temp\n",
        "  rev(l+1,r-1)\n",
        "print(arr)\n",
        "rev(0,len(arr)-1)\n",
        "print(\"reversed :\", arr)"
      ],
      "metadata": {
        "colab": {
          "base_uri": "https://localhost:8080/"
        },
        "id": "4y3HXTjjd7I7",
        "outputId": "02ad3448-7fb3-49fb-b0f9-bb3cee0c4b79"
      },
      "execution_count": null,
      "outputs": [
        {
          "output_type": "stream",
          "name": "stdout",
          "text": [
            "[0, 1, 2, 3, 4]\n",
            "reversed : [4, 3, 2, 0, 0]\n"
          ]
        }
      ]
    },
    {
      "cell_type": "markdown",
      "source": [
        "Palandrome"
      ],
      "metadata": {
        "id": "mBrOtfxswaiE"
      }
    },
    {
      "cell_type": "code",
      "source": [
        "def ispal(a,i):\n",
        "  a=a.lower()\n",
        "  if i>=len(a)/2:\n",
        "    return True\n",
        "  if a[i]!=a[len(a)-i-1]:\n",
        "    return False\n",
        "  return ispal(a,i+1)\n",
        "ispal(\"MADAm\",0)"
      ],
      "metadata": {
        "colab": {
          "base_uri": "https://localhost:8080/"
        },
        "id": "wOqT03iCwdCE",
        "outputId": "cc9e5706-313a-4b1b-9621-cd6697b8053a"
      },
      "execution_count": null,
      "outputs": [
        {
          "output_type": "execute_result",
          "data": {
            "text/plain": [
              "True"
            ]
          },
          "metadata": {},
          "execution_count": 10
        }
      ]
    },
    {
      "cell_type": "markdown",
      "source": [
        "Multiple reccusion calls"
      ],
      "metadata": {
        "id": "o7KJEKIezDLX"
      }
    },
    {
      "cell_type": "code",
      "source": [
        "#Fibonacc\n",
        "def fib(n):\n",
        " if n<=1:\n",
        "  return n\n",
        " return fib(n-1)+fib(n-2)\n",
        "fib(5)"
      ],
      "metadata": {
        "colab": {
          "base_uri": "https://localhost:8080/"
        },
        "id": "J38xnODlzFUX",
        "outputId": "9ce94ede-d4b8-4621-c724-26ae1a9716cd"
      },
      "execution_count": null,
      "outputs": [
        {
          "output_type": "execute_result",
          "data": {
            "text/plain": [
              "5"
            ]
          },
          "metadata": {},
          "execution_count": 16
        }
      ]
    }
  ]
}